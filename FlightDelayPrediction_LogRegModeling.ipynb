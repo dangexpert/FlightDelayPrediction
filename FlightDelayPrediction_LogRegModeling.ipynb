{
  "nbformat": 4,
  "nbformat_minor": 0,
  "metadata": {
    "colab": {
      "name": "FlightDelayPrediction_LogRegModeling",
      "provenance": [],
      "private_outputs": true,
      "collapsed_sections": [],
      "machine_shape": "hm",
      "include_colab_link": true
    },
    "kernelspec": {
      "name": "python3",
      "display_name": "Python 3"
    },
    "accelerator": "GPU"
  },
  "cells": [
    {
      "cell_type": "markdown",
      "metadata": {
        "id": "view-in-github",
        "colab_type": "text"
      },
      "source": [
        "<a href=\"https://colab.research.google.com/github/dangexpert/FlightDelayPrediction/blob/master/FlightDelayPrediction_LogRegModeling.ipynb\" target=\"_parent\"><img src=\"https://colab.research.google.com/assets/colab-badge.svg\" alt=\"Open In Colab\"/></a>"
      ]
    },
    {
      "cell_type": "code",
      "metadata": {
        "id": "VtSI6VpxWrmj",
        "colab_type": "code",
        "colab": {}
      },
      "source": [
        "import numpy as np\n",
        "import pandas as pd\n",
        "import matplotlib.pyplot as plt\n",
        "import seaborn as sns\n",
        "\n",
        "from sklearn.preprocessing import LabelEncoder\n",
        "from sklearn.preprocessing import OneHotEncoder\n"
      ],
      "execution_count": 0,
      "outputs": []
    },
    {
      "cell_type": "code",
      "metadata": {
        "id": "geEykoFsW5R3",
        "colab_type": "code",
        "colab": {}
      },
      "source": [
        "from google.colab import drive\n",
        "drive.mount('/content/drive')"
      ],
      "execution_count": 0,
      "outputs": []
    },
    {
      "cell_type": "code",
      "metadata": {
        "id": "R_yT9TImW5oE",
        "colab_type": "code",
        "colab": {}
      },
      "source": [
        "flight = pd.read_csv('drive/My Drive/Colab Notebooks/Flight_data.csv')\n",
        "flight_df = flight.copy()"
      ],
      "execution_count": 0,
      "outputs": []
    },
    {
      "cell_type": "code",
      "metadata": {
        "id": "rRY5yo_5ceoF",
        "colab_type": "code",
        "colab": {}
      },
      "source": [
        "flight_df.info()"
      ],
      "execution_count": 0,
      "outputs": []
    },
    {
      "cell_type": "code",
      "metadata": {
        "id": "YAOZHQsDc8mg",
        "colab_type": "code",
        "colab": {}
      },
      "source": [
        "flight_df.describe()"
      ],
      "execution_count": 0,
      "outputs": []
    },
    {
      "cell_type": "markdown",
      "metadata": {
        "id": "Zq_qn1VJyYZB",
        "colab_type": "text"
      },
      "source": [
        "### Data Preprocessing"
      ]
    },
    {
      "cell_type": "markdown",
      "metadata": {
        "id": "hfE1JCAyzCXH",
        "colab_type": "text"
      },
      "source": [
        "***1. encode categorical data: OP_UNIQUE_CARRIER, ORIGIN, DEST, DEP_TIME_BLK***"
      ]
    },
    {
      "cell_type": "code",
      "metadata": {
        "id": "Xeu-YKerKqzZ",
        "colab_type": "code",
        "colab": {}
      },
      "source": [
        "features = flight_df[['MONTH', 'DAY_OF_WEEK', 'OP_UNIQUE_CARRIER', 'TAXI_IN', 'TAXI_OUT', 'DEP_TIME_BLK', 'AIR_TIME', 'ARR_DELAY_NEW']]\n",
        "#'ORIGIN' 'DEST',"
      ],
      "execution_count": 0,
      "outputs": []
    },
    {
      "cell_type": "code",
      "metadata": {
        "id": "ltuJ8uaHyX6b",
        "colab_type": "code",
        "colab": {}
      },
      "source": [
        "labelen = LabelEncoder()\n",
        "\n",
        "#label encoding\n",
        "# flight_df.OP_UNIQUE_CARRIER = pd.Series(labelen.fit_transform(flight_df.OP_UNIQUE_CARRIER))\n",
        "# flight_df.ORIGIN = pd.Series(labelen.fit_transform(flight_df.ORIGIN))\n",
        "# flight_df.DEST = pd.Series(labelen.fit_transform(flight_df.DEST))\n",
        "features.DEP_TIME_BLK = pd.Series(labelen.fit_transform(features.DEP_TIME_BLK))\n",
        "\n",
        "#dummy / one hot encoding\n",
        "df = pd.get_dummies(features[['OP_UNIQUE_CARRIER']], drop_first=True) #'ORIGIN' 'DEST'\n",
        "flight_features = pd.concat([features, df], axis=1)\n",
        "flight_features.drop('OP_UNIQUE_CARRIER', axis = 1, inplace = True)"
      ],
      "execution_count": 0,
      "outputs": []
    },
    {
      "cell_type": "code",
      "metadata": {
        "id": "j9XFbsu93UYo",
        "colab_type": "code",
        "colab": {}
      },
      "source": [
        "# #correlation\n",
        "\n",
        "# df = features[['QUARTER', 'MONTH', 'DAY_OF_WEEK', 'OP_UNIQUE_CARRIER', 'ORIGIN',\\\n",
        "#                 'DEST', 'DEP_TIME_BLK', 'DEP_DELAY_NEW', 'TAXI_OUT', 'TAXI_IN',\\\n",
        "#                 'ARR_DELAY_NEW', 'AIR_TIME', 'DISTANCE', 'DISTANCE_GROUP']]\n",
        "# df.corr()"
      ],
      "execution_count": 0,
      "outputs": []
    },
    {
      "cell_type": "code",
      "metadata": {
        "id": "dSg4H5GWA5aE",
        "colab_type": "code",
        "colab": {}
      },
      "source": [
        "# #one hot encoding \n",
        "# OP_UNIQUE_CARRIER = np.array(flight_df.OP_UNIQUE_CARRIER).reshape(-1, 1)\n",
        "# ORIGIN = np.array(flight_df.ORIGIN).reshape(-1, 1)\n",
        "# DEST = np.array(flight_df.DEST).reshape(-1, 1)\n",
        "\n",
        "# onehoten = OneHotEncoder(sparse=False)\n",
        "\n",
        "# OP_CARRIER_oh = onehoten.fit_transform(OP_UNIQUE_CARRIER)\n",
        "# ORIGIN_oh = onehoten.fit_transform(ORIGIN)\n",
        "# DEST_oh = onehoten.fit_transform(DEST)\n",
        "\n",
        "# OP_CARRIER_oh = OP_CARRIER_oh[:, 1:]\n",
        "# ORIGIN_oh = ORIGIN_oh[:, 1:]\n",
        "# DEST_oh = DEST_oh[:, 1:]\n"
      ],
      "execution_count": 0,
      "outputs": []
    },
    {
      "cell_type": "markdown",
      "metadata": {
        "id": "sJkN6o_bycVJ",
        "colab_type": "text"
      },
      "source": [
        "### Modeling"
      ]
    },
    {
      "cell_type": "code",
      "metadata": {
        "id": "lClbsc4rSEW-",
        "colab_type": "code",
        "colab": {}
      },
      "source": [
        "from __future__ import print_function\n",
        "\n",
        "import math\n",
        "\n",
        "from IPython import display\n",
        "from matplotlib import cm\n",
        "from matplotlib import gridspec\n",
        "from matplotlib import pyplot as plt\n",
        "import numpy as np\n",
        "import pandas as pd\n",
        "from sklearn import metrics\n",
        "#%tensorflow_version 1.x\n",
        "import tensorflow as tf\n",
        "from tensorflow.python.data import Dataset\n",
        "\n",
        "import warnings\n",
        "warnings.filterwarnings(\"ignore\")\n",
        "\n",
        "import os\n",
        "os.environ['TF_CPP_MIN_LOG_LEVEL'] = '2'\n",
        "\n",
        "tf.logging.set_verbosity(tf.logging.ERROR)\n",
        "\n",
        "flight_features = flight_features.reindex(np.random.permutation(flight_features.index))"
      ],
      "execution_count": 0,
      "outputs": []
    },
    {
      "cell_type": "code",
      "metadata": {
        "id": "WKL0QjyNVaJa",
        "colab_type": "code",
        "colab": {}
      },
      "source": [
        "def preprocess_features(flight_features):\n",
        "  selected_features = flight_features\n",
        "  processed_features = selected_features.copy()\n",
        "  return processed_features\n",
        "\n",
        "def preprocess_targets(california_housing_dataframe):\n",
        "  output_targets = pd.DataFrame()\n",
        "  # Create a boolean categorical feature representing whether the\n",
        "  # median_house_value is above a set threshold.\n",
        "  output_targets[\"delay_or_not\"] = (\n",
        "      flight_features['ARR_DELAY_NEW'].apply(lambda x: 1 if x != 0 else 0)\n",
        "  )\n",
        "  return output_targets"
      ],
      "execution_count": 0,
      "outputs": []
    },
    {
      "cell_type": "code",
      "metadata": {
        "id": "dQfER0PBYQSw",
        "colab_type": "code",
        "colab": {}
      },
      "source": [
        "# Choose the first 70% examples for training.\n",
        "training_examples = preprocess_features(flight_features.head(500000))\n",
        "training_targets = preprocess_targets(flight_features).head(500000)\n",
        "\n",
        "# Choose the last 30% examples for validation.\n",
        "validation_examples = preprocess_features(flight_features.tail(207103))\n",
        "validation_targets = preprocess_targets(flight_features).tail(207103)\n",
        "\n",
        "# Double-check that we've done the right thing.\n",
        "print(\"Training examples summary:\")\n",
        "display.display(training_examples.describe())\n",
        "print(\"Validation examples summary:\")\n",
        "display.display(validation_examples.describe())\n",
        "\n",
        "print(\"Training targets summary:\")\n",
        "display.display(training_targets.describe())\n",
        "print(\"Validation targets summary:\")\n",
        "display.display(validation_targets.describe())"
      ],
      "execution_count": 0,
      "outputs": []
    },
    {
      "cell_type": "code",
      "metadata": {
        "id": "HKNwrV_oZPVU",
        "colab_type": "code",
        "colab": {}
      },
      "source": [
        "def construct_feature_columns(input_features):\n",
        "\n",
        "  return set([tf.feature_column.numeric_column(my_feature)\n",
        "              for my_feature in input_features])\n",
        "  \n",
        "\n",
        "def my_input_fn(features, targets, batch_size=1, shuffle=True, num_epochs=None):\n",
        "    \n",
        "    # Convert pandas data into a dict of np arrays.\n",
        "    features = {key:np.array(value) for key,value in dict(features).items()}                                            \n",
        " \n",
        "    # Construct a dataset, and configure batching/repeating.\n",
        "    ds = Dataset.from_tensor_slices((features,targets)) \n",
        "    ds = ds.batch(batch_size).repeat(num_epochs)\n",
        "    \n",
        "    # Shuffle the data, if specified.\n",
        "    if shuffle:\n",
        "      ds = ds.shuffle(10000)\n",
        "    \n",
        "    # Return the next batch of data.\n",
        "    features, labels = ds.make_one_shot_iterator().get_next()\n",
        "    return features, labels"
      ],
      "execution_count": 0,
      "outputs": []
    },
    {
      "cell_type": "code",
      "metadata": {
        "id": "_vZs3rlnYxXF",
        "colab_type": "code",
        "colab": {}
      },
      "source": [
        "def train_linear_classifier_model(\n",
        "    learning_rate,\n",
        "    steps,\n",
        "    batch_size,\n",
        "    training_examples,\n",
        "    training_targets,\n",
        "    validation_examples,\n",
        "    validation_targets):\n",
        "\n",
        "  periods = 10\n",
        "  steps_per_period = steps / periods\n",
        "  \n",
        "  # Create a linear classifier object.\n",
        "  my_optimizer = tf.train.GradientDescentOptimizer(learning_rate=learning_rate)\n",
        "  my_optimizer = tf.contrib.estimator.clip_gradients_by_norm(my_optimizer, 5.0)  \n",
        "  linear_classifier = tf.estimator.LinearClassifier(\n",
        "      feature_columns=construct_feature_columns(training_examples),\n",
        "      optimizer=my_optimizer\n",
        "  )\n",
        "  \n",
        "  # Create input functions.\n",
        "  training_input_fn = lambda: my_input_fn(training_examples, \n",
        "                                          training_targets[\"delay_or_not\"], \n",
        "                                          batch_size=batch_size)\n",
        "  predict_training_input_fn = lambda: my_input_fn(training_examples, \n",
        "                                                  training_targets[\"delay_or_not\"], \n",
        "                                                  num_epochs=1, \n",
        "                                                  shuffle=False)\n",
        "  predict_validation_input_fn = lambda: my_input_fn(validation_examples, \n",
        "                                                    validation_targets[\"delay_or_not\"], \n",
        "                                                    num_epochs=1, \n",
        "                                                    shuffle=False)\n",
        "  \n",
        "  # Train the model, but do so inside a loop so that we can periodically assess\n",
        "  # loss metrics.\n",
        "  print(\"Training model...\")\n",
        "  print(\"LogLoss (on training data):\")\n",
        "  training_log_losses = []\n",
        "  validation_log_losses = []\n",
        "  for period in range (0, periods):\n",
        "    # Train the model, starting from the prior state.\n",
        "    linear_classifier.train(\n",
        "        input_fn=training_input_fn,\n",
        "        steps=steps_per_period\n",
        "    )\n",
        "    # Take a break and compute predictions.    \n",
        "    training_probabilities = linear_classifier.predict(input_fn=predict_training_input_fn)\n",
        "    training_probabilities = np.array([item['probabilities'] for item in training_probabilities])\n",
        "    \n",
        "    validation_probabilities = linear_classifier.predict(input_fn=predict_validation_input_fn)\n",
        "    validation_probabilities = np.array([item['probabilities'] for item in validation_probabilities])\n",
        "    \n",
        "    training_log_loss = metrics.log_loss(training_targets, training_probabilities)\n",
        "    validation_log_loss = metrics.log_loss(validation_targets, validation_probabilities)\n",
        "    # Occasionally print the current loss.\n",
        "    print(\"  period %02d : %0.2f\" % (period, training_log_loss))\n",
        "    # Add the loss metrics from this period to our list.\n",
        "    training_log_losses.append(training_log_loss)\n",
        "    validation_log_losses.append(validation_log_loss)\n",
        "  print(\"Model training finished.\")\n",
        "  \n",
        "  # Output a graph of loss metrics over periods.\n",
        "  plt.ylabel(\"LogLoss\")\n",
        "  plt.xlabel(\"Periods\")\n",
        "  plt.title(\"LogLoss vs. Periods\")\n",
        "  plt.tight_layout()\n",
        "  plt.plot(training_log_losses, label=\"training\")\n",
        "  plt.plot(validation_log_losses, label=\"validation\")\n",
        "  plt.legend()\n",
        "\n",
        "  return linear_classifier"
      ],
      "execution_count": 0,
      "outputs": []
    },
    {
      "cell_type": "code",
      "metadata": {
        "id": "K9a-KBl0ZH42",
        "colab_type": "code",
        "colab": {}
      },
      "source": [
        "linear_classifier = train_linear_classifier_model(\n",
        "    learning_rate=0.001,\n",
        "    steps=500,\n",
        "    batch_size=20,\n",
        "    training_examples=training_examples,\n",
        "    training_targets=training_targets,\n",
        "    validation_examples=validation_examples,\n",
        "    validation_targets=validation_targets)\n",
        "\n",
        "\n",
        "predict_validation_input_fn = lambda: my_input_fn(validation_examples, \n",
        "                                                  validation_targets[\"delay_or_not\"], \n",
        "                                                  num_epochs=1, \n",
        "                                                  shuffle=False)\n",
        "\n",
        "evaluation_metrics = linear_classifier.evaluate(input_fn=predict_validation_input_fn)\n",
        "\n",
        "print(\"AUC on the validation set: %0.2f\" % evaluation_metrics['auc'])\n",
        "print(\"Accuracy on the validation set: %0.2f\" % evaluation_metrics['accuracy'])"
      ],
      "execution_count": 0,
      "outputs": []
    }
  ]
}